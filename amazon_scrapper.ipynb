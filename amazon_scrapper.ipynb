{
  "nbformat": 4,
  "nbformat_minor": 0,
  "metadata": {
    "colab": {
      "name": "amazon_scrapper.ipynb",
      "provenance": [],
      "authorship_tag": "ABX9TyMficfPX5CqEZ2knNFZecVU",
      "include_colab_link": true
    },
    "kernelspec": {
      "name": "python3",
      "display_name": "Python 3"
    },
    "language_info": {
      "name": "python"
    }
  },
  "cells": [
    {
      "cell_type": "markdown",
      "metadata": {
        "id": "view-in-github",
        "colab_type": "text"
      },
      "source": [
        "<a href=\"https://colab.research.google.com/github/RaghavMaskara21/amazon-review-scrapper/blob/main/amazon_scrapper.ipynb\" target=\"_parent\"><img src=\"https://colab.research.google.com/assets/colab-badge.svg\" alt=\"Open In Colab\"/></a>"
      ]
    },
    {
      "cell_type": "code",
      "source": [
        "import requests\n",
        "from bs4 import BeautifulSoup\n",
        "import pandas as pd\n",
        "\n",
        "reviewlist = []\n",
        "\n",
        "\n",
        "\n",
        "def get_reviews(soup):\n",
        "    reviews = soup.find_all('div', {'data-hook': 'review'})\n",
        "    try:\n",
        "        for item in reviews:\n",
        "            review = {\n",
        "            'product': soup.title.text.replace('Amazon.co.uk:Customer reviews:', '').strip(),\n",
        "            'name': item.find('span',{'class': 'a-profile-name'}).text.strip(),\n",
        "            'title': item.find('a', {'data-hook': 'review-title'}).text.strip(),\n",
        "            'rating':  float(item.find('i', {'data-hook': 'review-star-rating'}).text.replace('out of 5 stars', '').strip()),\n",
        "            'date': item.find('span',{'data-hook': 'review-date'}).text.replace('Reviewed in India on', '').strip(),     \n",
        "            'body': item.find('span', {'data-hook': 'review-body'}).text.strip(),\n",
        "            'helpful':item.find('span',{'data-hook': 'helpful-vote-statement'}).text.replace('people found this helpful', '').strip()\n",
        "            }\n",
        "            reviewlist.append(review)\n",
        "    except:\n",
        "        pass\n",
        "\n",
        "for x in range(1,5):\n",
        "    soup = html_code(f'https://www.amazon.in/Echo-Dot-3rd-Gen/product-reviews/B07PFFMP9P/ref=cm_cr_arp_d_paging_btm_next_2?ie=UTF8&reviewerType=all_reviews&pageNumber={x}')\n",
        "    print(f'Getting page: {x}')\n",
        "    get_reviews(soup)\n",
        "    print(len(reviewlist))\n",
        "    if not soup.find('li', {'class': 'a-disabled a-last'}):\n",
        "        pass\n",
        "    else:\n",
        "        break\n",
        "\n",
        "df = pd.DataFrame(reviewlist)\n",
        "df.to_csv('Echo-Dot-(3rd-Gen).csv', index=False)\n",
        "print('Finished')"
      ],
      "metadata": {
        "colab": {
          "base_uri": "https://localhost:8080/"
        },
        "id": "7T2mVM5hjFpy",
        "outputId": "eaa80548-e824-4988-a7ed-1702c290769a"
      },
      "execution_count": 43,
      "outputs": [
        {
          "output_type": "stream",
          "name": "stdout",
          "text": [
            "Getting page: 1\n",
            "10\n",
            "Getting page: 2\n",
            "20\n",
            "Getting page: 3\n",
            "30\n",
            "Getting page: 4\n",
            "40\n",
            "Finished\n"
          ]
        }
      ]
    },
    {
      "cell_type": "code",
      "source": [
        ""
      ],
      "metadata": {
        "id": "EoIfijn94LCQ"
      },
      "execution_count": null,
      "outputs": []
    }
  ]
}